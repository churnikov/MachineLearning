{
 "cells": [
  {
   "cell_type": "code",
   "execution_count": 51,
   "metadata": {
    "collapsed": true
   },
   "outputs": [],
   "source": [
    "from parseUtils import parseDocs\n",
    "\n",
    "tagDict, tagList, textList, namesList = parseDocs()\n",
    "\n",
    "with open('stop_words.txt') as sw:\n",
    "    stop_words = [line.rstrip('\\n') for line in sw]\n",
    "\n",
    "with open('important_words.txt') as iw:\n",
    "    imp_words = {line.rstrip('\\n') for line in iw}"
   ]
  },
  {
   "cell_type": "code",
   "execution_count": 52,
   "metadata": {
    "collapsed": true
   },
   "outputs": [],
   "source": [
    "trainNum = 3684\n",
    "testNumStart = 3685\n",
    "testNumFinish = len(textList)"
   ]
  },
  {
   "cell_type": "code",
   "execution_count": 53,
   "metadata": {
    "collapsed": true
   },
   "outputs": [],
   "source": [
    "from nltk.stem.snowball import SnowballStemmer\n",
    "from sklearn.pipeline import Pipeline\n",
    "from sklearn.feature_extraction.text import CountVectorizer, TfidfTransformer\n",
    "\n",
    "stemmer = SnowballStemmer('russian')\n",
    "tkzr = CountVectorizer().build_tokenizer()\n",
    "\n",
    "stem_tokenize = lambda tokens: [stemmer.stem(item) for item in tokens]\n",
    "tokenize = lambda text: stem_tokenize(tkzr(text))\n",
    "\n",
    "prepoc = Pipeline([('count', CountVectorizer(tokenizer=tokenize,\n",
    "                                             max_df=0.8,\n",
    "                                             min_df=0.01,\n",
    "                                             ngram_range=(1, 2),\n",
    "                                             stop_words = stop_words)),\n",
    "                   ('tfidf', TfidfTransformer())])"
   ]
  },
  {
   "cell_type": "code",
   "execution_count": 54,
   "metadata": {
    "collapsed": true
   },
   "outputs": [],
   "source": [
    "from sklearn.preprocessing import MultiLabelBinarizer\n",
    "\n",
    "X_train = prepoc.fit_transform(textList)\n",
    "mlb = MultiLabelBinarizer()\n",
    "y = mlb.fit_transform(tagList)"
   ]
  },
  {
   "cell_type": "code",
   "execution_count": 55,
   "metadata": {
    "collapsed": true
   },
   "outputs": [],
   "source": [
    "from sklearn.feature_selection import (chi2, SelectKBest)\n",
    "from sklearn.multiclass import OneVsRestClassifier\n",
    "from sklearn.svm import LinearSVC\n",
    "\n",
    "clf = Pipeline([('chi2', SelectKBest(chi2, k = 'all')),\n",
    "                ('svm', LinearSVC(random_state=0,\n",
    "                                  class_weight='balanced',\n",
    "                                  C=2.0))])\n",
    "\n",
    "classer = OneVsRestClassifier(clf, n_jobs=1).fit(X_train[:trainNum, :],\n",
    "                                                y[:trainNum, :])"
   ]
  },
  {
   "cell_type": "code",
   "execution_count": 65,
   "metadata": {
    "collapsed": false
   },
   "outputs": [
    {
     "ename": "TypeError",
     "evalue": "__init__() missing 1 required positional argument: 'x_shape'",
     "output_type": "error",
     "traceback": [
      "\u001b[0;31m---------------------------------------------------------------------------\u001b[0m",
      "\u001b[0;31mTypeError\u001b[0m                                 Traceback (most recent call last)",
      "\u001b[0;32m<ipython-input-65-aea1d07f948b>\u001b[0m in \u001b[0;36m<module>\u001b[0;34m()\u001b[0m\n\u001b[1;32m      6\u001b[0m                 \u001b[0mmlb\u001b[0m \u001b[0;34m=\u001b[0m \u001b[0mmlb\u001b[0m\u001b[0;34m,\u001b[0m\u001b[0;34m\u001b[0m\u001b[0m\n\u001b[1;32m      7\u001b[0m                 \u001b[0mtagList\u001b[0m \u001b[0;34m=\u001b[0m \u001b[0mtagList\u001b[0m\u001b[0;34m,\u001b[0m\u001b[0;34m\u001b[0m\u001b[0m\n\u001b[0;32m----> 8\u001b[0;31m                 namesList = namesList).evalTrainer(testNumStart, testNumFinish)\n\u001b[0m",
      "\u001b[0;31mTypeError\u001b[0m: __init__() missing 1 required positional argument: 'x_shape'"
     ]
    }
   ],
   "source": [
    "import evaluation\n",
    "out = (\"/Volumes/Media/Documents/Git/MachineLearning/src\"\n",
    "            \"/main/resources/classifierOuts/\")\n",
    "evaluation.eval(out_path = out, \n",
    "                classifier = classer, \n",
    "                mlb = mlb,\n",
    "                x_train = X_train\n",
    "                tagList = tagList,\n",
    "                namesList = namesList).evalTrainer(testNumStart, testNumFinish)\n"
   ]
  },
  {
   "cell_type": "code",
   "execution_count": null,
   "metadata": {
    "collapsed": false
   },
   "outputs": [],
   "source": []
  },
  {
   "cell_type": "code",
   "execution_count": null,
   "metadata": {
    "collapsed": true
   },
   "outputs": [],
   "source": []
  }
 ],
 "metadata": {
  "anaconda-cloud": {},
  "kernelspec": {
   "display_name": "Python [Root]",
   "language": "python",
   "name": "Python [Root]"
  },
  "language_info": {
   "codemirror_mode": {
    "name": "ipython",
    "version": 3
   },
   "file_extension": ".py",
   "mimetype": "text/x-python",
   "name": "python",
   "nbconvert_exporter": "python",
   "pygments_lexer": "ipython3",
   "version": "3.5.2"
  }
 },
 "nbformat": 4,
 "nbformat_minor": 0
}
