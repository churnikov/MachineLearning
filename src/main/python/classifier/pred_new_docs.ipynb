{
 "cells": [
  {
   "cell_type": "code",
   "execution_count": 1,
   "metadata": {
    "collapsed": true
   },
   "outputs": [],
   "source": [
    "from sklearn.feature_extraction.text import CountVectorizer, TfidfTransformer\n",
    "from sklearn.feature_selection import chi2, SelectKBest\n",
    "from sklearn.preprocessing import MultiLabelBinarizer\n",
    "from sklearn.multiclass import OneVsRestClassifier\n",
    "from sklearn.svm import LinearSVC\n",
    "from datetime import date\n",
    "from os.path import join\n",
    "from nltk.stem.snowball import SnowballStemmer\n",
    "from sklearn.pipeline import Pipeline\n",
    "import csv"
   ]
  },
  {
   "cell_type": "code",
   "execution_count": 2,
   "metadata": {
    "collapsed": false
   },
   "outputs": [],
   "source": [
    "from parseUtils import parseDocs, update_file\n",
    "out_path = (\"/Volumes/Media/Documents/Git/MachineLearning/src\"\n",
    "            \"/main/resources/classifierOuts/\")\n",
    "\n",
    "tagDict, tagList, textList, namesList = parseDocs()"
   ]
  },
  {
   "cell_type": "code",
   "execution_count": 3,
   "metadata": {
    "collapsed": false
   },
   "outputs": [
    {
     "name": "stdout",
     "output_type": "stream",
     "text": [
      "36\n"
     ]
    }
   ],
   "source": [
    "with open('stop_words.txt') as sw:\n",
    "    stop_words = [line.rstrip('\\n') for line in sw]\n",
    "\n",
    "with open('important_words.txt') as iw:\n",
    "    imp_words = {line.rstrip('\\n') for line in iw}\n",
    "\n",
    "print(len(tagDict))"
   ]
  },
  {
   "cell_type": "code",
   "execution_count": 4,
   "metadata": {
    "collapsed": false
   },
   "outputs": [],
   "source": [
    "trainNum = 3684\n",
    "testNumStart = 3685\n",
    "testNumFinish = len(textList)"
   ]
  },
  {
   "cell_type": "code",
   "execution_count": 5,
   "metadata": {
    "collapsed": false
   },
   "outputs": [],
   "source": [
    "##############\n",
    "p = '/Volumes/Media/Documents/Git/MachineLearning/out/validation/'\n",
    "__, __, texts_to_pred, names = parseDocs(tag = 'notag',\n",
    "                                         texts_used = namesList,\n",
    "                                         discard_tags = False,\n",
    "                                         mypath = p)\n",
    "\n",
    "textList.extend(texts_to_pred)\n",
    "##############"
   ]
  },
  {
   "cell_type": "code",
   "execution_count": 6,
   "metadata": {
    "collapsed": true
   },
   "outputs": [],
   "source": [
    "stemmer = SnowballStemmer('russian')\n",
    "tkzr = CountVectorizer().build_tokenizer()\n",
    "\n",
    "stem_tokenize = lambda tokens: [stemmer.stem(item) for item in tokens]\n",
    "tokenize = lambda text: stem_tokenize(tkzr(text))\n",
    "\n",
    "\n",
    "prepoc = Pipeline([('count', CountVectorizer(tokenizer=tokenize,\n",
    "                                             max_df=0.8,\n",
    "                                             min_df=0.01,\n",
    "                                             ngram_range=(1, 2),\n",
    "                                             stop_words = stop_words)),\n",
    "                   ('tfidf', TfidfTransformer())])"
   ]
  },
  {
   "cell_type": "code",
   "execution_count": 7,
   "metadata": {
    "collapsed": false
   },
   "outputs": [
    {
     "data": {
      "text/plain": [
       "(6156, 8905)"
      ]
     },
     "execution_count": 7,
     "metadata": {},
     "output_type": "execute_result"
    }
   ],
   "source": [
    "# Creating multilaber tags by binarizing them\n",
    "\n",
    "mlb = MultiLabelBinarizer()\n",
    "y = mlb.fit_transform(tagList)\n",
    "x = prepoc.fit_transform(textList)\n",
    "x.shape"
   ]
  },
  {
   "cell_type": "code",
   "execution_count": 8,
   "metadata": {
    "collapsed": true
   },
   "outputs": [],
   "source": [
    "clf = Pipeline([('chi2', SelectKBest(chi2, k = 'all')),\n",
    "                ('svm', LinearSVC(random_state=0,\n",
    "                                  class_weight='balanced',\n",
    "                                  C=2.0))])"
   ]
  },
  {
   "cell_type": "code",
   "execution_count": 9,
   "metadata": {
    "collapsed": false
   },
   "outputs": [
    {
     "data": {
      "text/plain": [
       "(4606, 36)"
      ]
     },
     "execution_count": 9,
     "metadata": {},
     "output_type": "execute_result"
    }
   ],
   "source": [
    "y.shape"
   ]
  },
  {
   "cell_type": "code",
   "execution_count": 10,
   "metadata": {
    "collapsed": false
   },
   "outputs": [
    {
     "name": "stderr",
     "output_type": "stream",
     "text": [
      "/Volumes/Media/Applications/Anaconda/anaconda/lib/python3.5/site-packages/sklearn/feature_selection/univariate_selection.py:165: RuntimeWarning: invalid value encountered in true_divide\n",
      "  chisq /= f_exp\n",
      "/Volumes/Media/Applications/Anaconda/anaconda/lib/python3.5/site-packages/sklearn/feature_selection/univariate_selection.py:165: RuntimeWarning: invalid value encountered in true_divide\n",
      "  chisq /= f_exp\n",
      "/Volumes/Media/Applications/Anaconda/anaconda/lib/python3.5/site-packages/sklearn/feature_selection/univariate_selection.py:165: RuntimeWarning: invalid value encountered in true_divide\n",
      "  chisq /= f_exp\n",
      "/Volumes/Media/Applications/Anaconda/anaconda/lib/python3.5/site-packages/sklearn/feature_selection/univariate_selection.py:165: RuntimeWarning: invalid value encountered in true_divide\n",
      "  chisq /= f_exp\n",
      "/Volumes/Media/Applications/Anaconda/anaconda/lib/python3.5/site-packages/sklearn/feature_selection/univariate_selection.py:165: RuntimeWarning: invalid value encountered in true_divide\n",
      "  chisq /= f_exp\n",
      "/Volumes/Media/Applications/Anaconda/anaconda/lib/python3.5/site-packages/sklearn/feature_selection/univariate_selection.py:165: RuntimeWarning: invalid value encountered in true_divide\n",
      "  chisq /= f_exp\n",
      "/Volumes/Media/Applications/Anaconda/anaconda/lib/python3.5/site-packages/sklearn/feature_selection/univariate_selection.py:165: RuntimeWarning: invalid value encountered in true_divide\n",
      "  chisq /= f_exp\n",
      "/Volumes/Media/Applications/Anaconda/anaconda/lib/python3.5/site-packages/sklearn/feature_selection/univariate_selection.py:165: RuntimeWarning: invalid value encountered in true_divide\n",
      "  chisq /= f_exp\n",
      "/Volumes/Media/Applications/Anaconda/anaconda/lib/python3.5/site-packages/sklearn/feature_selection/univariate_selection.py:165: RuntimeWarning: invalid value encountered in true_divide\n",
      "  chisq /= f_exp\n",
      "/Volumes/Media/Applications/Anaconda/anaconda/lib/python3.5/site-packages/sklearn/feature_selection/univariate_selection.py:165: RuntimeWarning: invalid value encountered in true_divide\n",
      "  chisq /= f_exp\n",
      "/Volumes/Media/Applications/Anaconda/anaconda/lib/python3.5/site-packages/sklearn/feature_selection/univariate_selection.py:165: RuntimeWarning: invalid value encountered in true_divide\n",
      "  chisq /= f_exp\n",
      "/Volumes/Media/Applications/Anaconda/anaconda/lib/python3.5/site-packages/sklearn/feature_selection/univariate_selection.py:165: RuntimeWarning: invalid value encountered in true_divide\n",
      "  chisq /= f_exp\n",
      "/Volumes/Media/Applications/Anaconda/anaconda/lib/python3.5/site-packages/sklearn/feature_selection/univariate_selection.py:165: RuntimeWarning: invalid value encountered in true_divide\n",
      "  chisq /= f_exp\n",
      "/Volumes/Media/Applications/Anaconda/anaconda/lib/python3.5/site-packages/sklearn/feature_selection/univariate_selection.py:165: RuntimeWarning: invalid value encountered in true_divide\n",
      "  chisq /= f_exp\n",
      "/Volumes/Media/Applications/Anaconda/anaconda/lib/python3.5/site-packages/sklearn/feature_selection/univariate_selection.py:165: RuntimeWarning: invalid value encountered in true_divide\n",
      "  chisq /= f_exp\n",
      "/Volumes/Media/Applications/Anaconda/anaconda/lib/python3.5/site-packages/sklearn/feature_selection/univariate_selection.py:165: RuntimeWarning: invalid value encountered in true_divide\n",
      "  chisq /= f_exp\n",
      "/Volumes/Media/Applications/Anaconda/anaconda/lib/python3.5/site-packages/sklearn/feature_selection/univariate_selection.py:165: RuntimeWarning: invalid value encountered in true_divide\n",
      "  chisq /= f_exp\n",
      "/Volumes/Media/Applications/Anaconda/anaconda/lib/python3.5/site-packages/sklearn/feature_selection/univariate_selection.py:165: RuntimeWarning: invalid value encountered in true_divide\n",
      "  chisq /= f_exp\n",
      "/Volumes/Media/Applications/Anaconda/anaconda/lib/python3.5/site-packages/sklearn/feature_selection/univariate_selection.py:165: RuntimeWarning: invalid value encountered in true_divide\n",
      "  chisq /= f_exp\n",
      "/Volumes/Media/Applications/Anaconda/anaconda/lib/python3.5/site-packages/sklearn/feature_selection/univariate_selection.py:165: RuntimeWarning: invalid value encountered in true_divide\n",
      "  chisq /= f_exp\n",
      "/Volumes/Media/Applications/Anaconda/anaconda/lib/python3.5/site-packages/sklearn/feature_selection/univariate_selection.py:165: RuntimeWarning: invalid value encountered in true_divide\n",
      "  chisq /= f_exp\n",
      "/Volumes/Media/Applications/Anaconda/anaconda/lib/python3.5/site-packages/sklearn/feature_selection/univariate_selection.py:165: RuntimeWarning: invalid value encountered in true_divide\n",
      "  chisq /= f_exp\n",
      "/Volumes/Media/Applications/Anaconda/anaconda/lib/python3.5/site-packages/sklearn/feature_selection/univariate_selection.py:165: RuntimeWarning: invalid value encountered in true_divide\n",
      "  chisq /= f_exp\n",
      "/Volumes/Media/Applications/Anaconda/anaconda/lib/python3.5/site-packages/sklearn/feature_selection/univariate_selection.py:165: RuntimeWarning: invalid value encountered in true_divide\n",
      "  chisq /= f_exp\n",
      "/Volumes/Media/Applications/Anaconda/anaconda/lib/python3.5/site-packages/sklearn/feature_selection/univariate_selection.py:165: RuntimeWarning: invalid value encountered in true_divide\n",
      "  chisq /= f_exp\n",
      "/Volumes/Media/Applications/Anaconda/anaconda/lib/python3.5/site-packages/sklearn/feature_selection/univariate_selection.py:165: RuntimeWarning: invalid value encountered in true_divide\n",
      "  chisq /= f_exp\n",
      "/Volumes/Media/Applications/Anaconda/anaconda/lib/python3.5/site-packages/sklearn/feature_selection/univariate_selection.py:165: RuntimeWarning: invalid value encountered in true_divide\n",
      "  chisq /= f_exp\n",
      "/Volumes/Media/Applications/Anaconda/anaconda/lib/python3.5/site-packages/sklearn/feature_selection/univariate_selection.py:165: RuntimeWarning: invalid value encountered in true_divide\n",
      "  chisq /= f_exp\n",
      "/Volumes/Media/Applications/Anaconda/anaconda/lib/python3.5/site-packages/sklearn/feature_selection/univariate_selection.py:165: RuntimeWarning: invalid value encountered in true_divide\n",
      "  chisq /= f_exp\n",
      "/Volumes/Media/Applications/Anaconda/anaconda/lib/python3.5/site-packages/sklearn/feature_selection/univariate_selection.py:165: RuntimeWarning: invalid value encountered in true_divide\n",
      "  chisq /= f_exp\n",
      "/Volumes/Media/Applications/Anaconda/anaconda/lib/python3.5/site-packages/sklearn/feature_selection/univariate_selection.py:165: RuntimeWarning: invalid value encountered in true_divide\n",
      "  chisq /= f_exp\n",
      "/Volumes/Media/Applications/Anaconda/anaconda/lib/python3.5/site-packages/sklearn/feature_selection/univariate_selection.py:165: RuntimeWarning: invalid value encountered in true_divide\n",
      "  chisq /= f_exp\n",
      "/Volumes/Media/Applications/Anaconda/anaconda/lib/python3.5/site-packages/sklearn/feature_selection/univariate_selection.py:165: RuntimeWarning: invalid value encountered in true_divide\n",
      "  chisq /= f_exp\n",
      "/Volumes/Media/Applications/Anaconda/anaconda/lib/python3.5/site-packages/sklearn/feature_selection/univariate_selection.py:165: RuntimeWarning: invalid value encountered in true_divide\n",
      "  chisq /= f_exp\n",
      "/Volumes/Media/Applications/Anaconda/anaconda/lib/python3.5/site-packages/sklearn/feature_selection/univariate_selection.py:165: RuntimeWarning: invalid value encountered in true_divide\n",
      "  chisq /= f_exp\n",
      "/Volumes/Media/Applications/Anaconda/anaconda/lib/python3.5/site-packages/sklearn/feature_selection/univariate_selection.py:165: RuntimeWarning: invalid value encountered in true_divide\n",
      "  chisq /= f_exp\n"
     ]
    }
   ],
   "source": [
    "classer = OneVsRestClassifier(clf, n_jobs=1).fit(x[:trainNum, :],\n",
    "                                                y[:trainNum, :])"
   ]
  },
  {
   "cell_type": "code",
   "execution_count": 11,
   "metadata": {
    "collapsed": true
   },
   "outputs": [],
   "source": [
    "import evaluation as e"
   ]
  },
  {
   "cell_type": "code",
   "execution_count": 12,
   "metadata": {
    "collapsed": false
   },
   "outputs": [
    {
     "data": {
      "text/plain": [
       "<module 'evaluation' from '/Volumes/Media/Documents/Git/MachineLearning/src/main/python/classifier/evaluation.py'>"
      ]
     },
     "execution_count": 12,
     "metadata": {},
     "output_type": "execute_result"
    }
   ],
   "source": [
    "from imp import reload\n",
    "reload(e)"
   ]
  },
  {
   "cell_type": "code",
   "execution_count": 13,
   "metadata": {
    "collapsed": false
   },
   "outputs": [
    {
     "name": "stdout",
     "output_type": "stream",
     "text": [
      "macro_precision = 0.6590662323561346\n",
      "micro_precision = 0.8276595744680851\n",
      "recall = 0.7649950835791544\n",
      "F1 = 0.795094532447624\n",
      "macro_correct = 607\n",
      "micro_correct = 778\n",
      "false_neg_tags = 239\n",
      "false_pos_tags = 162\n",
      "total_test_docs = 921\n",
      "n_of_pred_tags = 940\n",
      "n_of_relevant_tags = 1017\n"
     ]
    }
   ],
   "source": [
    "ev = e.eval(out_path, classer, mlb, x, tagList, namesList)\n",
    "ev.evalTrainer(testNumStart, testNumFinish)"
   ]
  },
  {
   "cell_type": "code",
   "execution_count": 14,
   "metadata": {
    "collapsed": false
   },
   "outputs": [
    {
     "data": {
      "text/plain": [
       "(6156, 8905)"
      ]
     },
     "execution_count": 14,
     "metadata": {},
     "output_type": "execute_result"
    }
   ],
   "source": [
    "x.shape"
   ]
  },
  {
   "cell_type": "code",
   "execution_count": 15,
   "metadata": {
    "collapsed": false
   },
   "outputs": [],
   "source": [
    "pred = classer.predict(x[testNumFinish + 1 : x.shape[0] - 1, : ])"
   ]
  },
  {
   "cell_type": "code",
   "execution_count": 16,
   "metadata": {
    "collapsed": false
   },
   "outputs": [],
   "source": [
    "import parseUtils as pu\n",
    "reload(pu)\n",
    "path = '/Volumes/Media/Documents/Git/MachineLearning/out/validation/'\n",
    "for i in range(0, pred.shape[0]):\n",
    "    tags_pred = []\n",
    "    predicted = pred[i]\n",
    "    for j in predicted.nonzero()[0]:\n",
    "        tags_pred.append(mlb.classes_.item(j))\n",
    "    if tags_pred:\n",
    "        pu.update_file(path, names[i], tags_pred)"
   ]
  },
  {
   "cell_type": "code",
   "execution_count": null,
   "metadata": {
    "collapsed": true
   },
   "outputs": [],
   "source": []
  }
 ],
 "metadata": {
  "anaconda-cloud": {},
  "kernelspec": {
   "display_name": "Python [Root]",
   "language": "python",
   "name": "Python [Root]"
  },
  "language_info": {
   "codemirror_mode": {
    "name": "ipython",
    "version": 3
   },
   "file_extension": ".py",
   "mimetype": "text/x-python",
   "name": "python",
   "nbconvert_exporter": "python",
   "pygments_lexer": "ipython3",
   "version": "3.5.2"
  }
 },
 "nbformat": 4,
 "nbformat_minor": 0
}
